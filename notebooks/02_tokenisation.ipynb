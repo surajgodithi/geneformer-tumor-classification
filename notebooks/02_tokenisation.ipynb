{
  "cells": [
    {
      "cell_type": "markdown",
      "metadata": {
        "id": "vjXZrOVZaLYC"
      },
      "source": [
        "# Tokenisation (GSE144735)\n"
      ],
      "id": "vjXZrOVZaLYC"
    },
    {
      "cell_type": "markdown",
      "metadata": {
        "id": "HXA0T-JFaLYC"
      },
      "source": [
        "Convert the QC-filtered AnnData into ranked gene tokens ready for Geneformer/scGPT fine-tuning.\n"
      ],
      "id": "HXA0T-JFaLYC"
    },
    {
      "cell_type": "code",
      "source": [
        "from google.colab import drive\n",
        "drive.mount('/content/drive')\n",
        "%cd /content/drive/MyDrive/geneformer-tumor-classification"
      ],
      "metadata": {
        "colab": {
          "base_uri": "https://localhost:8080/"
        },
        "id": "tV49UMh-aN3i",
        "outputId": "214dfc70-37f2-4734-f13a-a6b5da3c5614"
      },
      "id": "tV49UMh-aN3i",
      "execution_count": 1,
      "outputs": [
        {
          "output_type": "stream",
          "name": "stdout",
          "text": [
            "Drive already mounted at /content/drive; to attempt to forcibly remount, call drive.mount(\"/content/drive\", force_remount=True).\n",
            "/content/drive/MyDrive/geneformer-tumor-classification\n"
          ]
        }
      ]
    },
    {
      "cell_type": "code",
      "source": [
        "#%pip uninstall -y jax jaxlib ml-dtypes"
      ],
      "metadata": {
        "id": "bbi6-1V7bL6i"
      },
      "id": "bbi6-1V7bL6i",
      "execution_count": 2,
      "outputs": []
    },
    {
      "cell_type": "code",
      "source": [
        "# Dependencies\n",
        "!pip install --quiet -r requirements.txt"
      ],
      "metadata": {
        "id": "aJL03tolaYxk"
      },
      "id": "aJL03tolaYxk",
      "execution_count": 3,
      "outputs": []
    },
    {
      "cell_type": "code",
      "execution_count": 4,
      "metadata": {
        "id": "VgBnTdSnaLYD"
      },
      "outputs": [],
      "source": [
        "from pathlib import Path\n",
        "\n",
        "import numpy as np\n",
        "import pandas as pd\n",
        "import scanpy as sc\n",
        "from scipy import sparse\n",
        "from tqdm import trange\n"
      ],
      "id": "VgBnTdSnaLYD"
    },
    {
      "cell_type": "code",
      "execution_count": 5,
      "metadata": {
        "colab": {
          "base_uri": "https://localhost:8080/"
        },
        "id": "-dahU04VaLYD",
        "outputId": "32ac532c-9f54-4274-8557-3096e42c0747"
      },
      "outputs": [
        {
          "output_type": "stream",
          "name": "stdout",
          "text": [
            "Using filtered AnnData: gse144735/processed/gse144735_filtered_raw.h5ad\n",
            "Exists? True\n"
          ]
        }
      ],
      "source": [
        "PROCESSED_DIR = Path(\"gse144735/processed\")\n",
        "TOKEN_DIR = PROCESSED_DIR / \"tokens\"\n",
        "TOKEN_DIR.mkdir(parents=True, exist_ok=True)\n",
        "\n",
        "RAW_FILENAME = PROCESSED_DIR / \"gse144735_filtered_raw.h5ad\"\n",
        "HVG_FILENAME = PROCESSED_DIR / \"gse144735_hvg5k.h5ad\"\n",
        "\n",
        "print(f\"Using filtered AnnData: {RAW_FILENAME}\")\n",
        "print(f\"Exists? {RAW_FILENAME.exists()}\")\n"
      ],
      "id": "-dahU04VaLYD"
    },
    {
      "cell_type": "code",
      "execution_count": 6,
      "metadata": {
        "colab": {
          "base_uri": "https://localhost:8080/"
        },
        "id": "y3CzkI_TaLYD",
        "outputId": "53d4a5ba-7316-4977-f1c6-14f0b0d1484c"
      },
      "outputs": [
        {
          "output_type": "stream",
          "name": "stdout",
          "text": [
            "AnnData object with n_obs × n_vars = 27414 × 24471\n",
            "    obs: 'Patient', 'Class', 'Sample', 'Cell_type', 'Cell_subtype', 'n_genes_by_counts', 'log1p_n_genes_by_counts', 'total_counts', 'log1p_total_counts', 'pct_counts_in_top_50_genes', 'pct_counts_in_top_100_genes', 'pct_counts_in_top_200_genes', 'pct_counts_in_top_500_genes'\n",
            "    var: 'n_cells_by_counts', 'mean_counts', 'log1p_mean_counts', 'pct_dropout_by_counts', 'total_counts', 'log1p_total_counts', 'n_cells', 'highly_variable', 'means', 'dispersions', 'dispersions_norm'\n",
            "    uns: 'hvg', 'log1p'\n",
            "    layers: 'counts', 'log1p_norm'\n",
            "Class\n",
            "Normal    9736\n",
            "Border    9424\n",
            "Tumor     8254\n",
            "Name: count, dtype: int64\n"
          ]
        }
      ],
      "source": [
        "adata = sc.read_h5ad(RAW_FILENAME)\n",
        "print(adata)\n",
        "print(adata.obs[\"Class\"].value_counts())\n"
      ],
      "id": "y3CzkI_TaLYD"
    },
    {
      "cell_type": "code",
      "execution_count": 7,
      "metadata": {
        "colab": {
          "base_uri": "https://localhost:8080/"
        },
        "id": "L3bSwuPBaLYD",
        "outputId": "6e5b7552-7fcd-4ff6-88d4-ff1e045e37bb"
      },
      "outputs": [
        {
          "output_type": "stream",
          "name": "stdout",
          "text": [
            "Counts CSR shape: (27414, 24471)\n",
            "Non-zero entries: 47810455\n"
          ]
        }
      ],
      "source": [
        "counts = adata.layers.get(\"counts\", adata.X)\n",
        "if not sparse.issparse(counts):\n",
        "    counts = sparse.csr_matrix(counts)\n",
        "else:\n",
        "    counts = counts.tocsr()\n",
        "\n",
        "print(f\"Counts CSR shape: {counts.shape}\")\n",
        "print(f\"Non-zero entries: {counts.nnz}\")\n"
      ],
      "id": "L3bSwuPBaLYD"
    },
    {
      "cell_type": "code",
      "execution_count": 8,
      "metadata": {
        "colab": {
          "base_uri": "https://localhost:8080/",
          "height": 259
        },
        "id": "n31tGkCGaLYD",
        "outputId": "24c195e8-d51c-4647-fadb-2a03866fc13b"
      },
      "outputs": [
        {
          "output_type": "stream",
          "name": "stdout",
          "text": [
            "Wrote gene vocabulary: gse144735/processed/tokens/gene_vocab.tsv\n"
          ]
        },
        {
          "output_type": "execute_result",
          "data": {
            "text/plain": [
              "RP11-34P13.7     0\n",
              "FO538757.2       1\n",
              "AP006222.2       2\n",
              "RP4-669L17.10    3\n",
              "RP5-857K21.4     4\n",
              "Name: token_id, dtype: int32"
            ],
            "text/html": [
              "<div>\n",
              "<style scoped>\n",
              "    .dataframe tbody tr th:only-of-type {\n",
              "        vertical-align: middle;\n",
              "    }\n",
              "\n",
              "    .dataframe tbody tr th {\n",
              "        vertical-align: top;\n",
              "    }\n",
              "\n",
              "    .dataframe thead th {\n",
              "        text-align: right;\n",
              "    }\n",
              "</style>\n",
              "<table border=\"1\" class=\"dataframe\">\n",
              "  <thead>\n",
              "    <tr style=\"text-align: right;\">\n",
              "      <th></th>\n",
              "      <th>token_id</th>\n",
              "    </tr>\n",
              "  </thead>\n",
              "  <tbody>\n",
              "    <tr>\n",
              "      <th>RP11-34P13.7</th>\n",
              "      <td>0</td>\n",
              "    </tr>\n",
              "    <tr>\n",
              "      <th>FO538757.2</th>\n",
              "      <td>1</td>\n",
              "    </tr>\n",
              "    <tr>\n",
              "      <th>AP006222.2</th>\n",
              "      <td>2</td>\n",
              "    </tr>\n",
              "    <tr>\n",
              "      <th>RP4-669L17.10</th>\n",
              "      <td>3</td>\n",
              "    </tr>\n",
              "    <tr>\n",
              "      <th>RP5-857K21.4</th>\n",
              "      <td>4</td>\n",
              "    </tr>\n",
              "  </tbody>\n",
              "</table>\n",
              "</div><br><label><b>dtype:</b> int32</label>"
            ]
          },
          "metadata": {},
          "execution_count": 8
        }
      ],
      "source": [
        "gene_vocab = pd.Series(\n",
        "    data=np.arange(adata.n_vars, dtype=np.int32),\n",
        "    index=adata.var_names,\n",
        "    name=\"token_id\",\n",
        ")\n",
        "vocab_path = TOKEN_DIR / \"gene_vocab.tsv\"\n",
        "gene_vocab.to_csv(vocab_path, sep=\"\\t\", header=True)\n",
        "print(f\"Wrote gene vocabulary: {vocab_path}\")\n",
        "gene_vocab.head()\n"
      ],
      "id": "n31tGkCGaLYD"
    },
    {
      "cell_type": "code",
      "execution_count": 9,
      "metadata": {
        "colab": {
          "base_uri": "https://localhost:8080/"
        },
        "id": "4ZP_6ZAZaLYE",
        "outputId": "5c8d36de-540a-47a6-e11f-765e98b31512"
      },
      "outputs": [
        {
          "output_type": "stream",
          "name": "stderr",
          "text": [
            "Ranking genes: 100%|██████████| 27414/27414 [00:01<00:00, 17865.76it/s]"
          ]
        },
        {
          "output_type": "stream",
          "name": "stdout",
          "text": [
            "Token matrix shape: (27414, 2048)\n",
            "Max token length: 2048\n",
            "Median token length: 1305.5\n"
          ]
        },
        {
          "output_type": "stream",
          "name": "stderr",
          "text": [
            "\n"
          ]
        }
      ],
      "source": [
        "MAX_GENES = 2048  # truncate ranked list to the top-N expressed genes per cell\n",
        "\n",
        "token_matrix = np.full((adata.n_obs, MAX_GENES), fill_value=-1, dtype=np.int32)\n",
        "token_lengths = np.zeros(adata.n_obs, dtype=np.int32)\n",
        "\n",
        "indptr = counts.indptr\n",
        "indices = counts.indices\n",
        "data = counts.data\n",
        "\n",
        "for cell_idx in trange(adata.n_obs, desc=\"Ranking genes\"):\n",
        "    start = indptr[cell_idx]\n",
        "    end = indptr[cell_idx + 1]\n",
        "    cell_gene_idx = indices[start:end]\n",
        "    cell_expr = data[start:end]\n",
        "    if cell_expr.size == 0:\n",
        "        continue\n",
        "    order = np.argsort(cell_expr)[::-1]\n",
        "    ranked = cell_gene_idx[order]\n",
        "    if ranked.size > MAX_GENES:\n",
        "        ranked = ranked[:MAX_GENES]\n",
        "    token_matrix[cell_idx, : ranked.size] = ranked\n",
        "    token_lengths[cell_idx] = ranked.size\n",
        "\n",
        "print(f\"Token matrix shape: {token_matrix.shape}\")\n",
        "print(f\"Max token length: {token_lengths.max()}\")\n",
        "print(f\"Median token length: {np.median(token_lengths)}\")\n"
      ],
      "id": "4ZP_6ZAZaLYE"
    },
    {
      "cell_type": "code",
      "execution_count": 10,
      "metadata": {
        "colab": {
          "base_uri": "https://localhost:8080/",
          "height": 345
        },
        "id": "EijgLs7AaLYE",
        "outputId": "637a3440-8504-456a-f87d-66c99fb5e389"
      },
      "outputs": [
        {
          "output_type": "stream",
          "name": "stdout",
          "text": [
            "Saved tokens to gse144735/processed/tokens/gse144735_gene_rank_tokens.npz\n",
            "Saved metadata to gse144735/processed/tokens/gse144735_tokens_metadata.tsv\n"
          ]
        },
        {
          "output_type": "stream",
          "name": "stderr",
          "text": [
            "/tmp/ipython-input-451361942.py:17: FutureWarning: The default of observed=False is deprecated and will be changed to True in a future version of pandas. Pass observed=False to retain current behavior or observed=True to adopt the future default and silence this warning.\n",
            "  metadata.groupby([\"Patient\", \"Class\"]).size().head()\n"
          ]
        },
        {
          "output_type": "execute_result",
          "data": {
            "text/plain": [
              "Patient  Class \n",
              "KUL01    Border    2129\n",
              "         Normal    2012\n",
              "         Tumor     1922\n",
              "KUL19    Border    3263\n",
              "         Normal    1875\n",
              "dtype: int64"
            ],
            "text/html": [
              "<div>\n",
              "<style scoped>\n",
              "    .dataframe tbody tr th:only-of-type {\n",
              "        vertical-align: middle;\n",
              "    }\n",
              "\n",
              "    .dataframe tbody tr th {\n",
              "        vertical-align: top;\n",
              "    }\n",
              "\n",
              "    .dataframe thead th {\n",
              "        text-align: right;\n",
              "    }\n",
              "</style>\n",
              "<table border=\"1\" class=\"dataframe\">\n",
              "  <thead>\n",
              "    <tr style=\"text-align: right;\">\n",
              "      <th></th>\n",
              "      <th></th>\n",
              "      <th>0</th>\n",
              "    </tr>\n",
              "    <tr>\n",
              "      <th>Patient</th>\n",
              "      <th>Class</th>\n",
              "      <th></th>\n",
              "    </tr>\n",
              "  </thead>\n",
              "  <tbody>\n",
              "    <tr>\n",
              "      <th rowspan=\"3\" valign=\"top\">KUL01</th>\n",
              "      <th>Border</th>\n",
              "      <td>2129</td>\n",
              "    </tr>\n",
              "    <tr>\n",
              "      <th>Normal</th>\n",
              "      <td>2012</td>\n",
              "    </tr>\n",
              "    <tr>\n",
              "      <th>Tumor</th>\n",
              "      <td>1922</td>\n",
              "    </tr>\n",
              "    <tr>\n",
              "      <th rowspan=\"2\" valign=\"top\">KUL19</th>\n",
              "      <th>Border</th>\n",
              "      <td>3263</td>\n",
              "    </tr>\n",
              "    <tr>\n",
              "      <th>Normal</th>\n",
              "      <td>1875</td>\n",
              "    </tr>\n",
              "  </tbody>\n",
              "</table>\n",
              "</div><br><label><b>dtype:</b> int64</label>"
            ]
          },
          "metadata": {},
          "execution_count": 10
        }
      ],
      "source": [
        "token_path = TOKEN_DIR / \"gse144735_gene_rank_tokens.npz\"\n",
        "np.savez_compressed(\n",
        "    token_path,\n",
        "    tokens=token_matrix,\n",
        "    lengths=token_lengths,\n",
        "    max_genes=MAX_GENES,\n",
        ")\n",
        "\n",
        "metadata_cols = [\"Patient\", \"Class\", \"Sample\"]\n",
        "metadata = adata.obs[metadata_cols].copy()\n",
        "metadata[\"token_length\"] = token_lengths\n",
        "metadata_path = TOKEN_DIR / \"gse144735_tokens_metadata.tsv\"\n",
        "metadata.to_csv(metadata_path, sep=\"\\t\", index=False)\n",
        "\n",
        "print(f\"Saved tokens to {token_path}\")\n",
        "print(f\"Saved metadata to {metadata_path}\")\n",
        "metadata.groupby([\"Patient\", \"Class\"]).size().head()\n"
      ],
      "id": "EijgLs7AaLYE"
    }
  ],
  "metadata": {
    "kernelspec": {
      "display_name": "Python 3",
      "language": "python",
      "name": "python3"
    },
    "language_info": {
      "name": "python"
    },
    "colab": {
      "provenance": []
    }
  },
  "nbformat": 4,
  "nbformat_minor": 5
}