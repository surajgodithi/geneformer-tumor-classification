{
  "cells": [
    {
      "cell_type": "markdown",
      "id": "00b49295",
      "metadata": {
        "id": "00b49295"
      },
      "source": [
        "# Quality Control (GSE144735)"
      ]
    },
    {
      "cell_type": "code",
      "execution_count": null,
      "id": "muCeyRntFmBu",
      "metadata": {
        "id": "muCeyRntFmBu"
      },
      "outputs": [],
      "source": [
        "# Run this if running on colab\n",
        "#%pip uninstall -y jax jaxlib ml-dtypes"
      ]
    },
    {
      "cell_type": "code",
      "execution_count": 2,
      "id": "LJ85ZZiiDr66",
      "metadata": {
        "colab": {
          "base_uri": "https://localhost:8080/"
        },
        "id": "LJ85ZZiiDr66",
        "outputId": "9df09fce-51ab-4f1a-b06d-28c32d59672c"
      },
      "outputs": [
        {
          "name": "stdout",
          "output_type": "stream",
          "text": [
            "Drive already mounted at /content/drive; to attempt to forcibly remount, call drive.mount(\"/content/drive\", force_remount=True).\n",
            "/content/drive/MyDrive/geneformer-tumor-classification\n"
          ]
        }
      ],
      "source": [
        "#from google.colab import drive\n",
        "#drive.mount('/content/drive')\n",
        "#%cd /content/drive/MyDrive/geneformer-tumor-classification"
      ]
    },
    {
      "cell_type": "code",
      "execution_count": 3,
      "id": "d1232a8a",
      "metadata": {
        "id": "d1232a8a",
        "tags": [
          "parameters"
        ]
      },
      "outputs": [],
      "source": [
        "# Dependencies\n",
        "# Run inside the notebook so packages land in the active kernel\n",
        "!pip install --quiet -r requirements.txt\n",
        "\n"
      ]
    },
    {
      "cell_type": "code",
      "execution_count": 4,
      "id": "3941b4f4",
      "metadata": {
        "colab": {
          "base_uri": "https://localhost:8080/"
        },
        "id": "3941b4f4",
        "outputId": "25199ff2-1659-47b9-874f-e61fe6e17091"
      },
      "outputs": [
        {
          "name": "stdout",
          "output_type": "stream",
          "text": [
            "Raw dir: gse144735/raw\n",
            "Processed dir: gse144735/processed\n"
          ]
        }
      ],
      "source": [
        "# Workspace paths\n",
        "from pathlib import Path\n",
        "\n",
        "DATA_DIR = Path('gse144735')\n",
        "RAW_DIR = DATA_DIR / 'raw'\n",
        "PROCESSED_DIR = DATA_DIR / 'processed'\n",
        "\n",
        "RAW_DIR.mkdir(parents=True, exist_ok=True)\n",
        "PROCESSED_DIR.mkdir(parents=True, exist_ok=True)\n",
        "\n",
        "print(f'Raw dir: {RAW_DIR}')\n",
        "print(f'Processed dir: {PROCESSED_DIR}')\n"
      ]
    },
    {
      "cell_type": "code",
      "execution_count": 5,
      "id": "c5c7385f",
      "metadata": {
        "colab": {
          "base_uri": "https://localhost:8080/"
        },
        "id": "c5c7385f",
        "outputId": "e25ce1f2-52c4-49c6-a23c-e233dc002748"
      },
      "outputs": [
        {
          "name": "stdout",
          "output_type": "stream",
          "text": [
            "counts: /content/drive/MyDrive/geneformer-tumor-classification/gse144735/raw/GSE144735_processed_KUL3_CRC_10X_raw_UMI_count_matrix.txt.gz\n",
            "log_tpm: /content/drive/MyDrive/geneformer-tumor-classification/gse144735/raw/GSE144735_processed_KUL3_CRC_10X_natural_log_TPM_matrix.txt.gz\n",
            "annotation: /content/drive/MyDrive/geneformer-tumor-classification/gse144735/raw/GSE144735_processed_KUL3_CRC_10X_annotation.txt.gz\n"
          ]
        }
      ],
      "source": [
        "import pooch\n",
        "from pathlib import Path\n",
        "\n",
        "BASE_URL = \"https://ftp.ncbi.nlm.nih.gov/geo/series/GSE144nnn/GSE144735/suppl/\"\n",
        "FILES = {\n",
        "    \"counts\": \"GSE144735_processed_KUL3_CRC_10X_raw_UMI_count_matrix.txt.gz\",\n",
        "    \"log_tpm\": \"GSE144735_processed_KUL3_CRC_10X_natural_log_TPM_matrix.txt.gz\",\n",
        "    \"annotation\": \"GSE144735_processed_KUL3_CRC_10X_annotation.txt.gz\",\n",
        "}\n",
        "\n",
        "downloaded_paths = {}\n",
        "for label, filename in FILES.items():\n",
        "    url = f\"{BASE_URL}{filename}\"\n",
        "    path = pooch.retrieve(url=url, known_hash=None, fname=filename, path=RAW_DIR, progressbar=True)\n",
        "    downloaded_paths[label] = Path(path)\n",
        "    print(f\"{label}: {path}\")"
      ]
    },
    {
      "cell_type": "code",
      "execution_count": 6,
      "id": "63e14c45",
      "metadata": {
        "colab": {
          "base_uri": "https://localhost:8080/"
        },
        "id": "63e14c45",
        "outputId": "a85151f8-5a72-4499-9892-ef2777c4dd7a"
      },
      "outputs": [
        {
          "name": "stdout",
          "output_type": "stream",
          "text": [
            "AnnData object with n_obs × n_vars = 27414 × 33694\n",
            "    obs: 'Patient', 'Class', 'Sample', 'Cell_type', 'Cell_subtype'\n",
            "    layers: 'counts'\n"
          ]
        }
      ],
      "source": [
        "import gzip\n",
        "import pandas as pd\n",
        "from scipy import sparse\n",
        "import scanpy as sc\n",
        "\n",
        "# Load expression counts and metadata into AnnData\n",
        "with gzip.open(downloaded_paths[\"counts\"], \"rt\") as fh:\n",
        "    counts_df = pd.read_csv(fh, sep=\"\\t\", index_col=0)\n",
        "counts_df.index.name = \"gene_symbol\"\n",
        "\n",
        "with gzip.open(downloaded_paths[\"annotation\"], \"rt\") as fh:\n",
        "    meta_df = pd.read_csv(fh, sep=\"\\t\", index_col=0)\n",
        "\n",
        "# Align columns/rows in case of ordering drift\n",
        "counts_df = counts_df.loc[:, meta_df.index]\n",
        "\n",
        "adata = sc.AnnData(X=sparse.csr_matrix(counts_df.values.T))\n",
        "adata.obs_names = counts_df.columns.tolist()\n",
        "adata.var_names = counts_df.index.tolist()\n",
        "adata.obs = meta_df\n",
        "adata.layers[\"counts\"] = adata.X.copy()\n",
        "\n",
        "print(adata)"
      ]
    },
    {
      "cell_type": "code",
      "execution_count": 7,
      "id": "5c4a3187",
      "metadata": {
        "colab": {
          "base_uri": "https://localhost:8080/"
        },
        "id": "5c4a3187",
        "outputId": "adaaf955-d42c-4b23-963f-94ff4185fdb7"
      },
      "outputs": [
        {
          "name": "stdout",
          "output_type": "stream",
          "text": [
            "Cells after filtering: 27414\n",
            "Genes after filtering: 24471\n"
          ]
        }
      ],
      "source": [
        "# Basic QC and filtering choices\n",
        "sc.pp.calculate_qc_metrics(adata, inplace=True)\n",
        "\n",
        "min_genes = 200\n",
        "min_cells = 3\n",
        "adata = adata[adata.obs[\"n_genes_by_counts\"] >= min_genes].copy()\n",
        "sc.pp.filter_genes(adata, min_cells=min_cells)\n",
        "\n",
        "print(f\"Cells after filtering: {adata.n_obs}\")\n",
        "print(f\"Genes after filtering: {adata.n_vars}\")"
      ]
    },
    {
      "cell_type": "code",
      "execution_count": 8,
      "id": "7b3eac64",
      "metadata": {
        "colab": {
          "base_uri": "https://localhost:8080/"
        },
        "id": "7b3eac64",
        "outputId": "4cd760b6-4b90-4568-dc5e-59ddf8f9040d"
      },
      "outputs": [
        {
          "name": "stdout",
          "output_type": "stream",
          "text": [
            "highly_variable\n",
            "False    19471\n",
            "True      5000\n",
            "Name: count, dtype: int64\n"
          ]
        },
        {
          "name": "stderr",
          "output_type": "stream",
          "text": [
            "/usr/local/lib/python3.12/dist-packages/scanpy/preprocessing/_highly_variable_genes.py:258: FutureWarning: The default of observed=False is deprecated and will be changed to True in a future version of pandas. Pass observed=False to retain current behavior or observed=True to adopt the future default and silence this warning.\n",
            "  disp_grouped = df.groupby(\"mean_bin\")[\"dispersions\"]\n"
          ]
        }
      ],
      "source": [
        "# Normalisation and highly variable gene selection for downstream modelling\n",
        "sc.pp.normalize_total(adata, target_sum=1e4)\n",
        "sc.pp.log1p(adata)\n",
        "adata.layers[\"log1p_norm\"] = adata.X.copy()\n",
        "\n",
        "sc.pp.highly_variable_genes(adata, flavor=\"cell_ranger\", n_top_genes=5000, subset=False)\n",
        "print(adata.var.highly_variable.value_counts())"
      ]
    },
    {
      "cell_type": "code",
      "execution_count": 9,
      "id": "d23b3931",
      "metadata": {
        "colab": {
          "base_uri": "https://localhost:8080/"
        },
        "id": "d23b3931",
        "outputId": "aac4ca1d-06df-4933-bb65-5ff27c486d6e"
      },
      "outputs": [
        {
          "name": "stdout",
          "output_type": "stream",
          "text": [
            "Saved filtered AnnData: gse144735/processed/gse144735_filtered_raw.h5ad\n",
            "Saved HVG AnnData: gse144735/processed/gse144735_hvg5k.h5ad\n"
          ]
        }
      ],
      "source": [
        "# Persist AnnData snapshots for later tokenisation and model training\n",
        "raw_path = PROCESSED_DIR / \"gse144735_filtered_raw.h5ad\"\n",
        "hvg_path = PROCESSED_DIR / \"gse144735_hvg5k.h5ad\"\n",
        "\n",
        "adata.layers[\"counts\"] = adata.layers.get(\"counts\", adata.X).copy()\n",
        "adata.write(raw_path, compression=\"gzip\")\n",
        "\n",
        "adata_hvg = adata[:, adata.var[\"highly_variable\"]].copy()\n",
        "adata_hvg.write(hvg_path, compression=\"gzip\")\n",
        "\n",
        "print(f\"Saved filtered AnnData: {raw_path}\")\n",
        "print(f\"Saved HVG AnnData: {hvg_path}\")"
      ]
    },
    {
      "cell_type": "code",
      "execution_count": 10,
      "id": "7e6d7cbb",
      "metadata": {
        "colab": {
          "base_uri": "https://localhost:8080/"
        },
        "id": "7e6d7cbb",
        "outputId": "78d20ead-9b43-4fe2-b297-b86c7a09aaa7"
      },
      "outputs": [
        {
          "name": "stdout",
          "output_type": "stream",
          "text": [
            "Class\n",
            "Normal    9736\n",
            "Border    9424\n",
            "Tumor     8254\n",
            "Name: count, dtype: int64\n",
            "Patient  Class \n",
            "KUL01    Border    2129\n",
            "         Normal    2012\n",
            "         Tumor     1922\n",
            "KUL19    Border    3263\n",
            "         Normal    1875\n",
            "         Tumor     3128\n",
            "KUL21    Border    1741\n",
            "         Normal    1340\n",
            "         Tumor     2149\n",
            "KUL28    Border     406\n",
            "         Normal     908\n",
            "         Tumor      428\n",
            "KUL30    Border     766\n",
            "         Normal    2092\n",
            "         Tumor      552\n",
            "KUL31    Border    1119\n",
            "         Normal    1509\n",
            "         Tumor       75\n",
            "dtype: int64\n"
          ]
        },
        {
          "name": "stderr",
          "output_type": "stream",
          "text": [
            "/tmp/ipython-input-716609447.py:3: FutureWarning: The default of observed=False is deprecated and will be changed to True in a future version of pandas. Pass observed=False to retain current behavior or observed=True to adopt the future default and silence this warning.\n",
            "  print(adata.obs.groupby([\"Patient\", \"Class\"]).size())\n"
          ]
        }
      ],
      "source": [
        "# Sanity check: class balance and per-patient sample sizes\n",
        "print(adata.obs[\"Class\"].value_counts())\n",
        "print(adata.obs.groupby([\"Patient\", \"Class\"]).size())"
      ]
    },
    {
      "cell_type": "code",
      "execution_count": null,
      "id": "e3GHiB6ddGJZ",
      "metadata": {
        "colab": {
          "base_uri": "https://localhost:8080/",
          "height": 335
        },
        "id": "e3GHiB6ddGJZ",
        "outputId": "f9d14bf2-305f-49a2-dee9-bfa4d8a0588d"
      },
      "outputs": [
        {
          "data": {
            "text/html": [
              "<div>\n",
              "<style scoped>\n",
              "    .dataframe tbody tr th:only-of-type {\n",
              "        vertical-align: middle;\n",
              "    }\n",
              "\n",
              "    .dataframe tbody tr th {\n",
              "        vertical-align: top;\n",
              "    }\n",
              "\n",
              "    .dataframe thead th {\n",
              "        text-align: right;\n",
              "    }\n",
              "</style>\n",
              "<table border=\"1\" class=\"dataframe\">\n",
              "  <thead>\n",
              "    <tr style=\"text-align: right;\">\n",
              "      <th></th>\n",
              "      <th>n_genes_by_counts</th>\n",
              "    </tr>\n",
              "  </thead>\n",
              "  <tbody>\n",
              "    <tr>\n",
              "      <th>count</th>\n",
              "      <td>27414.000000</td>\n",
              "    </tr>\n",
              "    <tr>\n",
              "      <th>mean</th>\n",
              "      <td>1744.139345</td>\n",
              "    </tr>\n",
              "    <tr>\n",
              "      <th>std</th>\n",
              "      <td>1201.347218</td>\n",
              "    </tr>\n",
              "    <tr>\n",
              "      <th>min</th>\n",
              "      <td>201.000000</td>\n",
              "    </tr>\n",
              "    <tr>\n",
              "      <th>25%</th>\n",
              "      <td>899.250000</td>\n",
              "    </tr>\n",
              "    <tr>\n",
              "      <th>50%</th>\n",
              "      <td>1306.000000</td>\n",
              "    </tr>\n",
              "    <tr>\n",
              "      <th>75%</th>\n",
              "      <td>2260.750000</td>\n",
              "    </tr>\n",
              "    <tr>\n",
              "      <th>max</th>\n",
              "      <td>5998.000000</td>\n",
              "    </tr>\n",
              "  </tbody>\n",
              "</table>\n",
              "</div><br><label><b>dtype:</b> float64</label>"
            ],
            "text/plain": [
              "count    27414.000000\n",
              "mean      1744.139345\n",
              "std       1201.347218\n",
              "min        201.000000\n",
              "25%        899.250000\n",
              "50%       1306.000000\n",
              "75%       2260.750000\n",
              "max       5998.000000\n",
              "Name: n_genes_by_counts, dtype: float64"
            ]
          },
          "execution_count": 13,
          "metadata": {},
          "output_type": "execute_result"
        }
      ],
      "source": [
        "adata.obs[\"n_genes_by_counts\"].describe()\n"
      ]
    },
    {
      "cell_type": "code",
      "execution_count": 14,
      "id": "tNRYx_nleCSX",
      "metadata": {
        "colab": {
          "base_uri": "https://localhost:8080/",
          "height": 335
        },
        "id": "tNRYx_nleCSX",
        "outputId": "9a51ca2f-22ad-4f67-ce5b-9ac01d700cac"
      },
      "outputs": [
        {
          "data": {
            "text/html": [
              "<div>\n",
              "<style scoped>\n",
              "    .dataframe tbody tr th:only-of-type {\n",
              "        vertical-align: middle;\n",
              "    }\n",
              "\n",
              "    .dataframe tbody tr th {\n",
              "        vertical-align: top;\n",
              "    }\n",
              "\n",
              "    .dataframe thead th {\n",
              "        text-align: right;\n",
              "    }\n",
              "</style>\n",
              "<table border=\"1\" class=\"dataframe\">\n",
              "  <thead>\n",
              "    <tr style=\"text-align: right;\">\n",
              "      <th></th>\n",
              "      <th>total_counts</th>\n",
              "    </tr>\n",
              "  </thead>\n",
              "  <tbody>\n",
              "    <tr>\n",
              "      <th>count</th>\n",
              "      <td>27414.000000</td>\n",
              "    </tr>\n",
              "    <tr>\n",
              "      <th>mean</th>\n",
              "      <td>7698.133399</td>\n",
              "    </tr>\n",
              "    <tr>\n",
              "      <th>std</th>\n",
              "      <td>8000.894467</td>\n",
              "    </tr>\n",
              "    <tr>\n",
              "      <th>min</th>\n",
              "      <td>1001.000000</td>\n",
              "    </tr>\n",
              "    <tr>\n",
              "      <th>25%</th>\n",
              "      <td>2492.000000</td>\n",
              "    </tr>\n",
              "    <tr>\n",
              "      <th>50%</th>\n",
              "      <td>4276.000000</td>\n",
              "    </tr>\n",
              "    <tr>\n",
              "      <th>75%</th>\n",
              "      <td>10015.750000</td>\n",
              "    </tr>\n",
              "    <tr>\n",
              "      <th>max</th>\n",
              "      <td>58449.000000</td>\n",
              "    </tr>\n",
              "  </tbody>\n",
              "</table>\n",
              "</div><br><label><b>dtype:</b> float64</label>"
            ],
            "text/plain": [
              "count    27414.000000\n",
              "mean      7698.133399\n",
              "std       8000.894467\n",
              "min       1001.000000\n",
              "25%       2492.000000\n",
              "50%       4276.000000\n",
              "75%      10015.750000\n",
              "max      58449.000000\n",
              "Name: total_counts, dtype: float64"
            ]
          },
          "execution_count": 14,
          "metadata": {},
          "output_type": "execute_result"
        }
      ],
      "source": [
        "adata.obs[\"total_counts\"].describe()"
      ]
    },
    {
      "cell_type": "code",
      "execution_count": 15,
      "id": "25Kb7bAreFJ3",
      "metadata": {
        "colab": {
          "base_uri": "https://localhost:8080/",
          "height": 209
        },
        "id": "25Kb7bAreFJ3",
        "outputId": "4ae818de-486a-47e7-8952-a465dc57dc01"
      },
      "outputs": [
        {
          "data": {
            "text/html": [
              "<div>\n",
              "<style scoped>\n",
              "    .dataframe tbody tr th:only-of-type {\n",
              "        vertical-align: middle;\n",
              "    }\n",
              "\n",
              "    .dataframe tbody tr th {\n",
              "        vertical-align: top;\n",
              "    }\n",
              "\n",
              "    .dataframe thead th {\n",
              "        text-align: right;\n",
              "    }\n",
              "</style>\n",
              "<table border=\"1\" class=\"dataframe\">\n",
              "  <thead>\n",
              "    <tr style=\"text-align: right;\">\n",
              "      <th></th>\n",
              "      <th>count</th>\n",
              "    </tr>\n",
              "    <tr>\n",
              "      <th>Class</th>\n",
              "      <th></th>\n",
              "    </tr>\n",
              "  </thead>\n",
              "  <tbody>\n",
              "    <tr>\n",
              "      <th>Normal</th>\n",
              "      <td>9736</td>\n",
              "    </tr>\n",
              "    <tr>\n",
              "      <th>Border</th>\n",
              "      <td>9424</td>\n",
              "    </tr>\n",
              "    <tr>\n",
              "      <th>Tumor</th>\n",
              "      <td>8254</td>\n",
              "    </tr>\n",
              "  </tbody>\n",
              "</table>\n",
              "</div><br><label><b>dtype:</b> int64</label>"
            ],
            "text/plain": [
              "Class\n",
              "Normal    9736\n",
              "Border    9424\n",
              "Tumor     8254\n",
              "Name: count, dtype: int64"
            ]
          },
          "execution_count": 15,
          "metadata": {},
          "output_type": "execute_result"
        }
      ],
      "source": [
        "adata.obs[\"Class\"].value_counts()"
      ]
    }
  ],
  "metadata": {
    "colab": {
      "machine_shape": "hm",
      "provenance": []
    },
    "kernelspec": {
      "display_name": ".venv",
      "language": "python",
      "name": "python3"
    },
    "language_info": {
      "codemirror_mode": {
        "name": "ipython",
        "version": 3
      },
      "file_extension": ".py",
      "mimetype": "text/x-python",
      "name": "python",
      "nbconvert_exporter": "python",
      "pygments_lexer": "ipython3",
      "version": "3.13.5"
    }
  },
  "nbformat": 4,
  "nbformat_minor": 5
}
